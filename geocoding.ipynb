{
 "cells": [
  {
   "cell_type": "code",
   "execution_count": null,
   "metadata": {},
   "outputs": [
    {
     "name": "stdout",
     "output_type": "stream",
     "text": [
      "Collecting googlemaps\n",
      "  Downloading googlemaps-4.10.0.tar.gz (33 kB)\n",
      "  Preparing metadata (setup.py) ... \u001b[?25ldone\n",
      "\u001b[?25hCollecting openpyxl\n",
      "  Using cached openpyxl-3.1.5-py2.py3-none-any.whl.metadata (2.5 kB)\n",
      "Requirement already satisfied: requests<3.0,>=2.20.0 in /Users/snappi/miniforge3/envs/ada/lib/python3.12/site-packages (from googlemaps) (2.32.3)\n",
      "Collecting et-xmlfile (from openpyxl)\n",
      "  Using cached et_xmlfile-2.0.0-py3-none-any.whl.metadata (2.7 kB)\n",
      "Requirement already satisfied: charset_normalizer<4,>=2 in /Users/snappi/miniforge3/envs/ada/lib/python3.12/site-packages (from requests<3.0,>=2.20.0->googlemaps) (3.4.0)\n",
      "Requirement already satisfied: idna<4,>=2.5 in /Users/snappi/miniforge3/envs/ada/lib/python3.12/site-packages (from requests<3.0,>=2.20.0->googlemaps) (3.10)\n",
      "Requirement already satisfied: urllib3<3,>=1.21.1 in /Users/snappi/miniforge3/envs/ada/lib/python3.12/site-packages (from requests<3.0,>=2.20.0->googlemaps) (2.2.3)\n",
      "Requirement already satisfied: certifi>=2017.4.17 in /Users/snappi/miniforge3/envs/ada/lib/python3.12/site-packages (from requests<3.0,>=2.20.0->googlemaps) (2024.12.14)\n",
      "Using cached openpyxl-3.1.5-py2.py3-none-any.whl (250 kB)\n",
      "Using cached et_xmlfile-2.0.0-py3-none-any.whl (18 kB)\n",
      "Building wheels for collected packages: googlemaps\n",
      "  Building wheel for googlemaps (setup.py) ... \u001b[?25ldone\n",
      "\u001b[?25h  Created wheel for googlemaps: filename=googlemaps-4.10.0-py3-none-any.whl size=40714 sha256=f8e6e21f5180e94be312375ff39dd3bd56320d7ce2be93cb05d22f847240a515\n",
      "  Stored in directory: /Users/snappi/Library/Caches/pip/wheels/4c/6a/a7/bbc6f5c200032025ee655deb5e163ce8594fa05e67d973aad6\n",
      "Successfully built googlemaps\n",
      "Installing collected packages: et-xmlfile, openpyxl, googlemaps\n",
      "Successfully installed et-xmlfile-2.0.0 googlemaps-4.10.0 openpyxl-3.1.5\n"
     ]
    }
   ],
   "source": [
    "# !pip install googlemaps openpyxl"
   ]
  },
  {
   "cell_type": "code",
   "execution_count": 4,
   "metadata": {},
   "outputs": [
    {
     "data": {
      "text/plain": [
       "False"
      ]
     },
     "execution_count": 4,
     "metadata": {},
     "output_type": "execute_result"
    }
   ],
   "source": [
    "import pandas as pd\n",
    "import googlemaps\n",
    "import dotenv\n",
    "import os\n",
    "import json\n",
    "\n",
    "dotenv.load_dotenv('.env')"
   ]
  },
  {
   "cell_type": "code",
   "execution_count": 5,
   "metadata": {},
   "outputs": [
    {
     "data": {
      "application/vnd.microsoft.datawrangler.viewer.v0+json": {
       "columns": [
        {
         "name": "index",
         "rawType": "int64",
         "type": "integer"
        },
        {
         "name": "Name",
         "rawType": "object",
         "type": "string"
        },
        {
         "name": "Date (Central Time)",
         "rawType": "object",
         "type": "string"
        },
        {
         "name": "Status",
         "rawType": "object",
         "type": "string"
        },
        {
         "name": "Provider",
         "rawType": "object",
         "type": "string"
        },
        {
         "name": "Rocket",
         "rawType": "object",
         "type": "string"
        },
        {
         "name": "Mission",
         "rawType": "object",
         "type": "string"
        },
        {
         "name": "Launch Pad",
         "rawType": "object",
         "type": "string"
        }
       ],
       "conversionMethod": "pd.DataFrame",
       "ref": "93d1b9ee-a4f1-415a-9c2a-7e9471a161da",
       "rows": [
        [
         "0",
         "Sputnik 8K74PS | Sputnik 1",
         "1957-10-04 09:28 AM",
         "Launch Successful",
         "Soviet Space Program",
         "Sputnik 8K74PS",
         "Sputnik 1",
         "1/5 | Baikonur Cosmodrome, Republic of Kazakhstan"
        ],
        [
         "1",
         "Sputnik 8K74PS | Sputnik 2",
         "1957-11-02 02:30 PM",
         "Launch Successful",
         "Soviet Space Program",
         "Sputnik 8K74PS",
         "Sputnik 2",
         "1/5 | Baikonur Cosmodrome, Republic of Kazakhstan"
        ],
        [
         "2",
         "Vanguard | Vanguard",
         "1957-12-06 04:44 AM",
         "Launch Failure",
         "US Navy",
         "Vanguard",
         "Vanguard",
         "Launch Complex 18A | Cape Canaveral, FL, USA"
        ],
        [
         "3",
         "Juno-I | Explorer 1",
         "1958-01-31 03:47 PM",
         "Launch Successful",
         "Army Ballistic Missile Agency",
         "Juno-I",
         "Explorer 1",
         "Launch Complex 26A | Cape Canaveral, FL, USA"
        ],
        [
         "4",
         "Vanguard | Vanguard",
         "1958-02-04 07:33 PM",
         "Launch Failure",
         "US Navy",
         "Vanguard",
         "Vanguard",
         "Launch Complex 18A | Cape Canaveral, FL, USA"
        ]
       ],
       "shape": {
        "columns": 7,
        "rows": 5
       }
      },
      "text/html": [
       "<div>\n",
       "<style scoped>\n",
       "    .dataframe tbody tr th:only-of-type {\n",
       "        vertical-align: middle;\n",
       "    }\n",
       "\n",
       "    .dataframe tbody tr th {\n",
       "        vertical-align: top;\n",
       "    }\n",
       "\n",
       "    .dataframe thead th {\n",
       "        text-align: right;\n",
       "    }\n",
       "</style>\n",
       "<table border=\"1\" class=\"dataframe\">\n",
       "  <thead>\n",
       "    <tr style=\"text-align: right;\">\n",
       "      <th></th>\n",
       "      <th>Name</th>\n",
       "      <th>Date (Central Time)</th>\n",
       "      <th>Status</th>\n",
       "      <th>Provider</th>\n",
       "      <th>Rocket</th>\n",
       "      <th>Mission</th>\n",
       "      <th>Launch Pad</th>\n",
       "    </tr>\n",
       "  </thead>\n",
       "  <tbody>\n",
       "    <tr>\n",
       "      <th>0</th>\n",
       "      <td>Sputnik 8K74PS | Sputnik 1</td>\n",
       "      <td>1957-10-04 09:28 AM</td>\n",
       "      <td>Launch Successful</td>\n",
       "      <td>Soviet Space Program</td>\n",
       "      <td>Sputnik 8K74PS</td>\n",
       "      <td>Sputnik 1</td>\n",
       "      <td>1/5 | Baikonur Cosmodrome, Republic of Kazakhstan</td>\n",
       "    </tr>\n",
       "    <tr>\n",
       "      <th>1</th>\n",
       "      <td>Sputnik 8K74PS | Sputnik 2</td>\n",
       "      <td>1957-11-02 02:30 PM</td>\n",
       "      <td>Launch Successful</td>\n",
       "      <td>Soviet Space Program</td>\n",
       "      <td>Sputnik 8K74PS</td>\n",
       "      <td>Sputnik 2</td>\n",
       "      <td>1/5 | Baikonur Cosmodrome, Republic of Kazakhstan</td>\n",
       "    </tr>\n",
       "    <tr>\n",
       "      <th>2</th>\n",
       "      <td>Vanguard | Vanguard</td>\n",
       "      <td>1957-12-06 04:44 AM</td>\n",
       "      <td>Launch Failure</td>\n",
       "      <td>US Navy</td>\n",
       "      <td>Vanguard</td>\n",
       "      <td>Vanguard</td>\n",
       "      <td>Launch Complex 18A | Cape Canaveral, FL, USA</td>\n",
       "    </tr>\n",
       "    <tr>\n",
       "      <th>3</th>\n",
       "      <td>Juno-I | Explorer 1</td>\n",
       "      <td>1958-01-31 03:47 PM</td>\n",
       "      <td>Launch Successful</td>\n",
       "      <td>Army Ballistic Missile Agency</td>\n",
       "      <td>Juno-I</td>\n",
       "      <td>Explorer 1</td>\n",
       "      <td>Launch Complex 26A | Cape Canaveral, FL, USA</td>\n",
       "    </tr>\n",
       "    <tr>\n",
       "      <th>4</th>\n",
       "      <td>Vanguard | Vanguard</td>\n",
       "      <td>1958-02-04 07:33 PM</td>\n",
       "      <td>Launch Failure</td>\n",
       "      <td>US Navy</td>\n",
       "      <td>Vanguard</td>\n",
       "      <td>Vanguard</td>\n",
       "      <td>Launch Complex 18A | Cape Canaveral, FL, USA</td>\n",
       "    </tr>\n",
       "  </tbody>\n",
       "</table>\n",
       "</div>"
      ],
      "text/plain": [
       "                         Name  Date (Central Time)             Status  \\\n",
       "0  Sputnik 8K74PS | Sputnik 1  1957-10-04 09:28 AM  Launch Successful   \n",
       "1  Sputnik 8K74PS | Sputnik 2  1957-11-02 02:30 PM  Launch Successful   \n",
       "2         Vanguard | Vanguard  1957-12-06 04:44 AM     Launch Failure   \n",
       "3         Juno-I | Explorer 1  1958-01-31 03:47 PM  Launch Successful   \n",
       "4         Vanguard | Vanguard  1958-02-04 07:33 PM     Launch Failure   \n",
       "\n",
       "                        Provider          Rocket     Mission  \\\n",
       "0           Soviet Space Program  Sputnik 8K74PS   Sputnik 1   \n",
       "1           Soviet Space Program  Sputnik 8K74PS   Sputnik 2   \n",
       "2                        US Navy        Vanguard    Vanguard   \n",
       "3  Army Ballistic Missile Agency          Juno-I  Explorer 1   \n",
       "4                        US Navy        Vanguard    Vanguard   \n",
       "\n",
       "                                          Launch Pad  \n",
       "0  1/5 | Baikonur Cosmodrome, Republic of Kazakhstan  \n",
       "1  1/5 | Baikonur Cosmodrome, Republic of Kazakhstan  \n",
       "2       Launch Complex 18A | Cape Canaveral, FL, USA  \n",
       "3       Launch Complex 26A | Cape Canaveral, FL, USA  \n",
       "4       Launch Complex 18A | Cape Canaveral, FL, USA  "
      ]
     },
     "execution_count": 5,
     "metadata": {},
     "output_type": "execute_result"
    }
   ],
   "source": [
    "df = pd.read_excel('space_launches_advanced_report.xlsx')\n",
    "\n",
    "df.head()"
   ]
  },
  {
   "cell_type": "code",
   "execution_count": 6,
   "metadata": {},
   "outputs": [
    {
     "data": {
      "text/plain": [
       "Status\n",
       "Launch Successful               6326\n",
       "Launch Failure                   500\n",
       "To Be Determined                 332\n",
       "Launch was a Partial Failure      34\n",
       "Go for Launch                      4\n",
       "To Be Confirmed                    3\n",
       "Name: count, dtype: int64"
      ]
     },
     "execution_count": 6,
     "metadata": {},
     "output_type": "execute_result"
    }
   ],
   "source": [
    "df['Status'].value_counts()"
   ]
  },
  {
   "cell_type": "code",
   "execution_count": 9,
   "metadata": {},
   "outputs": [],
   "source": [
    "# df.to_csv('space_launches_advanced_report.csv', index=False)"
   ]
  },
  {
   "cell_type": "code",
   "execution_count": 10,
   "metadata": {},
   "outputs": [
    {
     "data": {
      "text/plain": [
       "Launch Pad\n",
       "1/5 | Baikonur Cosmodrome, Republic of Kazakhstan                                487\n",
       "31/6 | Baikonur Cosmodrome, Republic of Kazakhstan                               418\n",
       "43/4 (43R) | Plesetsk Cosmodrome, Russian Federation                             318\n",
       "41/1 | Plesetsk Cosmodrome, Russian Federation                                   305\n",
       "Space Launch Complex 40 | Cape Canaveral, FL, USA                                256\n",
       "                                                                                ... \n",
       "Ekaterinburg (K-84) | Sea Launch                                                   1\n",
       "Launch Area 120 | Jiuquan Satellite Launch Center, People's Republic of China      1\n",
       "Borisoglebsk (K-496) | Sea Launch                                                  1\n",
       "250 | Baikonur Cosmodrome, Republic of Kazakhstan                                  1\n",
       "175/58 | Baikonur Cosmodrome, Republic of Kazakhstan                               1\n",
       "Name: count, Length: 197, dtype: int64"
      ]
     },
     "execution_count": 10,
     "metadata": {},
     "output_type": "execute_result"
    }
   ],
   "source": [
    "df['Launch Pad'].value_counts()"
   ]
  },
  {
   "cell_type": "code",
   "execution_count": null,
   "metadata": {},
   "outputs": [],
   "source": [
    "# gmaps = googlemaps.Client(key=os.getenv('GOOGLE_MAPS_API_KEY'))"
   ]
  },
  {
   "cell_type": "code",
   "execution_count": null,
   "metadata": {},
   "outputs": [],
   "source": [
    "# geocode_result = gmaps.geocode('Kennedy Space Center')"
   ]
  },
  {
   "cell_type": "code",
   "execution_count": null,
   "metadata": {},
   "outputs": [
    {
     "data": {
      "text/plain": [
       "[{'address_components': [{'long_name': 'Florida',\n",
       "    'short_name': 'FL',\n",
       "    'types': ['administrative_area_level_1', 'political']},\n",
       "   {'long_name': 'United States',\n",
       "    'short_name': 'US',\n",
       "    'types': ['country', 'political']},\n",
       "   {'long_name': '32899', 'short_name': '32899', 'types': ['postal_code']}],\n",
       "  'formatted_address': 'Florida 32899, USA',\n",
       "  'geometry': {'location': {'lat': 28.5743572, 'lng': -80.6520371},\n",
       "   'location_type': 'GEOMETRIC_CENTER',\n",
       "   'viewport': {'northeast': {'lat': 28.6291731, 'lng': -80.6520371},\n",
       "    'southwest': {'lat': 28.4806825, 'lng': -80.7869164}}},\n",
       "  'navigation_points': [{'location': {'latitude': 28.4807077,\n",
       "     'longitude': -80.6837389}},\n",
       "   {'location': {'latitude': 28.5276204, 'longitude': -80.7810396}},\n",
       "   {'location': {'latitude': 28.629145, 'longitude': -80.786887}}],\n",
       "  'partial_match': True,\n",
       "  'place_id': 'ChIJ_cZlo5VL54gR3Wn4RvI5c4s',\n",
       "  'plus_code': {'compound_code': 'H8FX+P5 North Merritt Island',\n",
       "   'global_code': '76WXH8FX+P5'},\n",
       "  'types': ['establishment', 'point_of_interest']}]"
      ]
     },
     "execution_count": 25,
     "metadata": {},
     "output_type": "execute_result"
    }
   ],
   "source": [
    "# geocode_result"
   ]
  },
  {
   "cell_type": "code",
   "execution_count": null,
   "metadata": {},
   "outputs": [],
   "source": [
    "# launch_pads = df['Launch Pad'].unique()\n",
    "# geocoded_launch_pads = {}\n",
    "# for launch_pad in launch_pads:\n",
    "#     geocode_result = gmaps.geocode(launch_pad)\n",
    "#     if geocode_result:\n",
    "#         geocoded_launch_pads[launch_pad] = geocode_result\n",
    "#     else:\n",
    "#         geocoded_launch_pads[launch_pad] = None"
   ]
  },
  {
   "cell_type": "code",
   "execution_count": null,
   "metadata": {},
   "outputs": [],
   "source": [
    "# import json\n",
    "# with open('geocoded_launch_pads.json', 'w') as f:\n",
    "#     json.dump(geocoded_launch_pads, f)"
   ]
  },
  {
   "cell_type": "code",
   "execution_count": null,
   "metadata": {},
   "outputs": [],
   "source": [
    "# extract lat and long from geocode result\n",
    "# launch_pad_coords = {}\n",
    "# for launch_pad, geocode_result in geocoded_launch_pads.items():\n",
    "#     if geocode_result:\n",
    "#         lat = geocode_result[0]['geometry']['location']['lat']\n",
    "#         lng = geocode_result[0]['geometry']['location']['lng']\n",
    "#         launch_pad_coords[launch_pad] = (lat, lng)\n",
    "#     else:\n",
    "#         launch_pad_coords[launch_pad] = None\n",
    "\n",
    "# with open('launch_pad_coords.json', 'w') as f:\n",
    "#     json.dump(launch_pad_coords, f)"
   ]
  },
  {
   "cell_type": "code",
   "execution_count": 11,
   "metadata": {},
   "outputs": [],
   "source": [
    "with open('launch_pad_coords.json', 'r') as f:\n",
    "    launch_pad_coords = json.load(f)"
   ]
  },
  {
   "cell_type": "code",
   "execution_count": 12,
   "metadata": {},
   "outputs": [],
   "source": [
    "def get_coords(launch_pad):\n",
    "    coords = launch_pad_coords.get(launch_pad)\n",
    "    if coords is None:\n",
    "        print(f\"Missing coordinates for: {launch_pad}\")  # Debugging\n",
    "    return coords if coords else (None, None)"
   ]
  },
  {
   "cell_type": "code",
   "execution_count": 13,
   "metadata": {},
   "outputs": [
    {
     "name": "stdout",
     "output_type": "stream",
     "text": [
      "Missing coordinates for: Launch Platform Odyssey | Sea Launch\n",
      "Missing coordinates for: Launch Platform Odyssey | Sea Launch\n",
      "Missing coordinates for: Launch Platform Odyssey | Sea Launch\n",
      "Missing coordinates for: Launch Platform Odyssey | Sea Launch\n",
      "Missing coordinates for: Launch Platform Odyssey | Sea Launch\n",
      "Missing coordinates for: Launch Platform Odyssey | Sea Launch\n",
      "Missing coordinates for: Launch Platform Odyssey | Sea Launch\n",
      "Missing coordinates for: Launch Platform Odyssey | Sea Launch\n",
      "Missing coordinates for: Launch Platform Odyssey | Sea Launch\n",
      "Missing coordinates for: Launch Platform Odyssey | Sea Launch\n",
      "Missing coordinates for: Launch Platform Odyssey | Sea Launch\n",
      "Missing coordinates for: Launch Platform Odyssey | Sea Launch\n",
      "Missing coordinates for: Launch Platform Odyssey | Sea Launch\n",
      "Missing coordinates for: Launch Platform Odyssey | Sea Launch\n",
      "Missing coordinates for: Launch Platform Odyssey | Sea Launch\n",
      "Missing coordinates for: Launch Platform Odyssey | Sea Launch\n",
      "Missing coordinates for: Launch Platform Odyssey | Sea Launch\n",
      "Missing coordinates for: Launch Platform Odyssey | Sea Launch\n",
      "Missing coordinates for: Launch Platform Odyssey | Sea Launch\n",
      "Missing coordinates for: Launch Platform Odyssey | Sea Launch\n",
      "Missing coordinates for: Launch Platform Odyssey | Sea Launch\n",
      "Missing coordinates for: Launch Platform Odyssey | Sea Launch\n",
      "Missing coordinates for: Launch Platform Odyssey | Sea Launch\n",
      "Missing coordinates for: Launch Platform Odyssey | Sea Launch\n",
      "Missing coordinates for: Launch Platform Odyssey | Sea Launch\n",
      "Missing coordinates for: Launch Platform Odyssey | Sea Launch\n",
      "Missing coordinates for: Launch Platform Odyssey | Sea Launch\n",
      "Missing coordinates for: Launch Platform Odyssey | Sea Launch\n",
      "Missing coordinates for: Launch Platform Odyssey | Sea Launch\n",
      "Missing coordinates for: Launch Platform Odyssey | Sea Launch\n",
      "Missing coordinates for: Launch Platform Odyssey | Sea Launch\n",
      "Missing coordinates for: Launch Platform Odyssey | Sea Launch\n",
      "Missing coordinates for: Launch Platform Odyssey | Sea Launch\n",
      "Missing coordinates for: Launch Platform Odyssey | Sea Launch\n",
      "Missing coordinates for: Launch Platform Odyssey | Sea Launch\n",
      "Missing coordinates for: Launch Platform Odyssey | Sea Launch\n",
      "Missing coordinates for: Tai Rui mobile launch platform | Sea Launch\n",
      "Missing coordinates for: DeBo 3 mobile launch platform | Sea Launch\n",
      "Missing coordinates for: Tai Rui mobile launch platform | Sea Launch\n",
      "Missing coordinates for: Suborbital Launch Ramp | Arnhem Space Centre\n",
      "Missing coordinates for: DeFu-15002 mobile launch platform | Sea Launch\n",
      "Missing coordinates for: Tai Rui mobile launch platform | Sea Launch\n",
      "Missing coordinates for: DeFu-15002 mobile launch platform | Sea Launch\n",
      "Missing coordinates for: Médano del Loro | El Arenosillo Test Centre\n",
      "Missing coordinates for: Bo Run Jiu Zhou mobile launch platform | Sea Launch\n",
      "Missing coordinates for: Bo Run Jiu Zhou mobile launch platform | Sea Launch\n",
      "Missing coordinates for: Haiyang Spaceport | Sea Launch\n",
      "Missing coordinates for: Bo Run Jiu Zhou mobile launch platform | Sea Launch\n",
      "Missing coordinates for: Oriental Spaceport mobile launch ship | Sea Launch\n",
      "Missing coordinates for: Haiyang Spaceport | Sea Launch\n",
      "Missing coordinates for: Launch Pad Fredo | SaxaVord Spaceport\n",
      "Missing coordinates for: Launch Pad Fredo | SaxaVord Spaceport\n",
      "Missing coordinates for: Launch Complex | Sutherland Spaceport\n"
     ]
    }
   ],
   "source": [
    "df[\"lat\"], df[\"lon\"] = zip(*df[\"Launch Pad\"].map(get_coords))"
   ]
  },
  {
   "cell_type": "code",
   "execution_count": 14,
   "metadata": {},
   "outputs": [],
   "source": [
    "# manually add missing launch pads\n",
    "\n",
    "launch_pad_coords['Launch Pad Fredo | SaxaVord Spaceport, Scotland, UK'] = [60.81913756250584, -0.7720690916339629]\n",
    "df['Launch Pad'] = df['Launch Pad'].replace('Launch Pad Fredo | SaxaVord Spaceport', 'Launch Pad Fredo | SaxaVord Spaceport, Scotland, UK')\n",
    "\n",
    "launch_pad_coords['Launch Complex | Sutherland Spaceport, Scotland, UK'] = [58.50926032615379, -4.488423456342812]\n",
    "df['Launch Pad'] = df['Launch Pad'].replace('Launch Complex | Sutherland Spaceport', 'Launch Complex | Sutherland Spaceport, Scotland, UK')\n",
    "\n",
    "launch_pad_coords[\"Haiyang Spaceport | Sea Launch, People's Republic of China\"] = [None, None]\n",
    "df['Launch Pad'] = df['Launch Pad'].replace('Haiyang Spaceport | Sea Launch', \"Haiyang Spaceport | Sea Launch, People's Republic of China\")\n",
    "\n",
    "launch_pad_coords[\"Oriental Spaceport mobile launch ship | Sea Launch, People's Republic of China\"] = [None, None]\n",
    "df['Launch Pad'] = df['Launch Pad'].replace('Oriental Spaceport mobile launch ship | Sea Launch', \"Oriental Spaceport mobile launch ship | Sea Launch, People's Republic of China\")\n",
    "\n",
    "launch_pad_coords[\"Bo Run Jiu Zhou mobile launch platform | Sea Launch, People's Republic of China\"] = [None, None]\n",
    "df['Launch Pad'] = df['Launch Pad'].replace('Bo Run Jiu Zhou mobile launch platform | Sea Launch', \"Bo Run Jiu Zhou mobile launch platform | Sea Launch, People's Republic of China\")\n",
    "\n",
    "launch_pad_coords['Médano del Loro | El Arenosillo Test Centre, Spain'] = [37.10213372159045, -6.7363040961777365]\n",
    "df['Launch Pad'] = df['Launch Pad'].replace('Médano del Loro | El Arenosillo Test Centre', 'Médano del Loro | El Arenosillo Test Centre, Spain')\n",
    "\n",
    "launch_pad_coords[\"DeFu-15002 mobile launch platform | Sea Launch, People's Republic of China\"] = [None, None]\n",
    "df['Launch Pad'] = df['Launch Pad'].replace('DeFu-15002 mobile launch platform | Sea Launch', \"DeFu-15002 mobile launch platform | Sea Launch, People's Republic of China\")\n",
    "\n",
    "launch_pad_coords[\"Tai Rui mobile launch platform | Sea Launch, People's Republic of China\"] = [None, None]\n",
    "df['Launch Pad'] = df['Launch Pad'].replace('Tai Rui mobile launch platform | Sea Launch', \"Tai Rui mobile launch platform | Sea Launch, People's Republic of China\")\n",
    "\n",
    "launch_pad_coords['Suborbital Launch Ramp | Arnhem Space Centre, Australia'] = [-12.390383926705704, 136.79694560834633]\n",
    "df['Launch Pad'] = df['Launch Pad'].replace('Suborbital Launch Ramp | Arnhem Space Centre', 'Suborbital Launch Ramp | Arnhem Space Centre, Australia')\n",
    "\n",
    "launch_pad_coords[\"DeBo 3 mobile launch platform | Sea Launch, People's Republic of China\"] = [None, None]\n",
    "df['Launch Pad'] = df['Launch Pad'].replace('DeBo 3 mobile launch platform | Sea Launch', \"DeBo 3 mobile launch platform | Sea Launch, People's Republic of China\")\n",
    "\n",
    "# cannot be attributed to a country, Sea Launch was a joint venture between Russia, Ukraine, Norway and the US\n",
    "launch_pad_coords['Launch Platform Odyssey | Sea Launch'] = [None, None]"
   ]
  },
  {
   "cell_type": "code",
   "execution_count": 15,
   "metadata": {},
   "outputs": [],
   "source": [
    "df[\"Date (Central Time)\"] = pd.to_datetime(df[\"Date (Central Time)\"])\n",
    "df[\"datetime_iso\"] = df[\"Date (Central Time)\"].dt.strftime('%Y-%m-%dT%H:%M:%S')\n",
    "\n",
    "df[\"timestamp_days\"] = (df[\"Date (Central Time)\"] - pd.Timestamp(\"1950-01-01\")).dt.days  # Days since 1950\n",
    "df[\"year\"] = df[\"Date (Central Time)\"].dt.year\n",
    "\n",
    "df.rename(columns={\"Launch Pad\": \"LaunchPad\"}, inplace=True)\n",
    "df.drop(columns=[\"Date (Central Time)\"], inplace=True)\n",
    "df.to_json(\"processed_rocket_launches.json\", orient=\"records\")"
   ]
  }
 ],
 "metadata": {
  "kernelspec": {
   "display_name": "ada",
   "language": "python",
   "name": "python3"
  },
  "language_info": {
   "codemirror_mode": {
    "name": "ipython",
    "version": 3
   },
   "file_extension": ".py",
   "mimetype": "text/x-python",
   "name": "python",
   "nbconvert_exporter": "python",
   "pygments_lexer": "ipython3",
   "version": "3.12.8"
  }
 },
 "nbformat": 4,
 "nbformat_minor": 2
}
