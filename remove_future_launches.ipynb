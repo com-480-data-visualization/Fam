{
 "cells": [
  {
   "cell_type": "markdown",
   "id": "8d1e3bef",
   "metadata": {},
   "source": [
    "### Handling Unknown Launch Statuses\n",
    "\n",
    "The dataset contains launches with future statuses such as \"To Be Determined\". These distort the calculations of success rates and launches per month/year.\n",
    "\n",
    "We choose to filter the data for only launches with determined statuses. "
   ]
  },
  {
   "cell_type": "code",
   "execution_count": 12,
   "id": "8c8524b4",
   "metadata": {},
   "outputs": [
    {
     "name": "stdout",
     "output_type": "stream",
     "text": [
      "Unique launch statuses:\n",
      "To Be Determined\n",
      "Launch Failure\n",
      "Launch was a Partial Failure\n",
      "Go for Launch\n",
      "To Be Confirmed\n",
      "Launch Successful\n"
     ]
    }
   ],
   "source": [
    "import json\n",
    "\n",
    "with open(\"processed_rocket_launches_with_future_launches.json\") as f:\n",
    "    launch_data = json.loads(f.read())\n",
    "\n",
    "statuses = set()\n",
    "for launch in launch_data:\n",
    "    statuses.add(launch[\"Status\"])\n",
    "print(\"Unique launch statuses:\")\n",
    "for status in statuses:\n",
    "    print(status)"
   ]
  },
  {
   "cell_type": "code",
   "execution_count": 13,
   "id": "c4cbcb62",
   "metadata": {},
   "outputs": [],
   "source": [
    "determined_statuses = {\"Launch Failure\", \"Launch was a Partial Failure\", \"Launch Successful\"}\n",
    "\n",
    "filtered_launch_data = [\n",
    "    launch for launch in launch_data if launch[\"Status\"] in determined_statuses\n",
    "]\n",
    "\n",
    "filtered_launch_data.sort(key=lambda x: x[\"timestamp_days\"])\n",
    "\n",
    "with open(\"data-viz/public/processed_rocket_launches.json\", \"w\") as f:\n",
    "    f.write(json.dumps(filtered_launch_data, indent=4))"
   ]
  },
  {
   "cell_type": "code",
   "execution_count": null,
   "id": "c7c39d4d",
   "metadata": {},
   "outputs": [],
   "source": []
  }
 ],
 "metadata": {
  "kernelspec": {
   "display_name": "ada",
   "language": "python",
   "name": "python3"
  },
  "language_info": {
   "codemirror_mode": {
    "name": "ipython",
    "version": 3
   },
   "file_extension": ".py",
   "mimetype": "text/x-python",
   "name": "python",
   "nbconvert_exporter": "python",
   "pygments_lexer": "ipython3",
   "version": "3.12.8"
  }
 },
 "nbformat": 4,
 "nbformat_minor": 5
}
