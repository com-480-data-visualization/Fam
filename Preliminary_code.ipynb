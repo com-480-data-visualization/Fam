{
 "cells": [
  {
   "cell_type": "markdown",
   "metadata": {},
   "source": [
    "## Imports"
   ]
  },
  {
   "cell_type": "code",
   "execution_count": 1,
   "metadata": {
    "tags": []
   },
   "outputs": [],
   "source": [
    "import numpy as np\n",
    "import pandas as pd\n",
    "import matplotlib.pyplot as plt\n",
    "import seaborn as sns "
   ]
  },
  {
   "cell_type": "code",
   "execution_count": null,
   "metadata": {},
   "outputs": [],
   "source": []
  },
  {
   "cell_type": "markdown",
   "metadata": {},
   "source": [
    "## Data"
   ]
  },
  {
   "cell_type": "code",
   "execution_count": 2,
   "metadata": {
    "tags": []
   },
   "outputs": [
    {
     "data": {
      "text/html": [
       "<div>\n",
       "<style scoped>\n",
       "    .dataframe tbody tr th:only-of-type {\n",
       "        vertical-align: middle;\n",
       "    }\n",
       "\n",
       "    .dataframe tbody tr th {\n",
       "        vertical-align: top;\n",
       "    }\n",
       "\n",
       "    .dataframe thead th {\n",
       "        text-align: right;\n",
       "    }\n",
       "</style>\n",
       "<table border=\"1\" class=\"dataframe\">\n",
       "  <thead>\n",
       "    <tr style=\"text-align: right;\">\n",
       "      <th></th>\n",
       "      <th>Name</th>\n",
       "      <th>Date (Central Time)</th>\n",
       "      <th>Status</th>\n",
       "      <th>Provider</th>\n",
       "      <th>Rocket</th>\n",
       "      <th>Mission</th>\n",
       "      <th>Launch Pad</th>\n",
       "      <th>Country</th>\n",
       "    </tr>\n",
       "  </thead>\n",
       "  <tbody>\n",
       "    <tr>\n",
       "      <th>0</th>\n",
       "      <td>Sputnik 8K74PS | Sputnik 1</td>\n",
       "      <td>1957-10-04 09:28 AM</td>\n",
       "      <td>Launch Successful</td>\n",
       "      <td>Soviet Space Program</td>\n",
       "      <td>Sputnik 8K74PS</td>\n",
       "      <td>Sputnik 1</td>\n",
       "      <td>1/5 | Baikonur Cosmodrome, Republic of Kazakhstan</td>\n",
       "      <td>Republic of Kazakhstan</td>\n",
       "    </tr>\n",
       "    <tr>\n",
       "      <th>1</th>\n",
       "      <td>Sputnik 8K74PS | Sputnik 2</td>\n",
       "      <td>1957-11-02 02:30 PM</td>\n",
       "      <td>Launch Successful</td>\n",
       "      <td>Soviet Space Program</td>\n",
       "      <td>Sputnik 8K74PS</td>\n",
       "      <td>Sputnik 2</td>\n",
       "      <td>1/5 | Baikonur Cosmodrome, Republic of Kazakhstan</td>\n",
       "      <td>Republic of Kazakhstan</td>\n",
       "    </tr>\n",
       "    <tr>\n",
       "      <th>2</th>\n",
       "      <td>Vanguard | Vanguard</td>\n",
       "      <td>1957-12-06 04:44 AM</td>\n",
       "      <td>Launch Failure</td>\n",
       "      <td>US Navy</td>\n",
       "      <td>Vanguard</td>\n",
       "      <td>Vanguard</td>\n",
       "      <td>Launch Complex 18A | Cape Canaveral, FL, USA</td>\n",
       "      <td>USA</td>\n",
       "    </tr>\n",
       "    <tr>\n",
       "      <th>3</th>\n",
       "      <td>Juno-I | Explorer 1</td>\n",
       "      <td>1958-01-31 03:47 PM</td>\n",
       "      <td>Launch Successful</td>\n",
       "      <td>Army Ballistic Missile Agency</td>\n",
       "      <td>Juno-I</td>\n",
       "      <td>Explorer 1</td>\n",
       "      <td>Launch Complex 26A | Cape Canaveral, FL, USA</td>\n",
       "      <td>USA</td>\n",
       "    </tr>\n",
       "    <tr>\n",
       "      <th>4</th>\n",
       "      <td>Vanguard | Vanguard</td>\n",
       "      <td>1958-02-04 07:33 PM</td>\n",
       "      <td>Launch Failure</td>\n",
       "      <td>US Navy</td>\n",
       "      <td>Vanguard</td>\n",
       "      <td>Vanguard</td>\n",
       "      <td>Launch Complex 18A | Cape Canaveral, FL, USA</td>\n",
       "      <td>USA</td>\n",
       "    </tr>\n",
       "  </tbody>\n",
       "</table>\n",
       "</div>"
      ],
      "text/plain": [
       "                         Name  Date (Central Time)             Status  \\\n",
       "0  Sputnik 8K74PS | Sputnik 1  1957-10-04 09:28 AM  Launch Successful   \n",
       "1  Sputnik 8K74PS | Sputnik 2  1957-11-02 02:30 PM  Launch Successful   \n",
       "2         Vanguard | Vanguard  1957-12-06 04:44 AM     Launch Failure   \n",
       "3         Juno-I | Explorer 1  1958-01-31 03:47 PM  Launch Successful   \n",
       "4         Vanguard | Vanguard  1958-02-04 07:33 PM     Launch Failure   \n",
       "\n",
       "                        Provider          Rocket     Mission  \\\n",
       "0           Soviet Space Program  Sputnik 8K74PS   Sputnik 1   \n",
       "1           Soviet Space Program  Sputnik 8K74PS   Sputnik 2   \n",
       "2                        US Navy        Vanguard    Vanguard   \n",
       "3  Army Ballistic Missile Agency          Juno-I  Explorer 1   \n",
       "4                        US Navy        Vanguard    Vanguard   \n",
       "\n",
       "                                          Launch Pad                 Country  \n",
       "0  1/5 | Baikonur Cosmodrome, Republic of Kazakhstan  Republic of Kazakhstan  \n",
       "1  1/5 | Baikonur Cosmodrome, Republic of Kazakhstan  Republic of Kazakhstan  \n",
       "2       Launch Complex 18A | Cape Canaveral, FL, USA                     USA  \n",
       "3       Launch Complex 26A | Cape Canaveral, FL, USA                     USA  \n",
       "4       Launch Complex 18A | Cape Canaveral, FL, USA                     USA  "
      ]
     },
     "execution_count": 2,
     "metadata": {},
     "output_type": "execute_result"
    }
   ],
   "source": [
    "df = pd.read_excel('space_launches_advanced_report.xlsx')\n",
    "\n",
    "df['Country'] = df['Launch Pad'].apply(lambda x: x.split(',')[-1].strip() if ',' in x else 'Unknown')\n",
    "\n",
    "df.head()"
   ]
  },
  {
   "cell_type": "code",
   "execution_count": null,
   "metadata": {},
   "outputs": [],
   "source": []
  },
  {
   "cell_type": "markdown",
   "metadata": {},
   "source": [
    "### Let's first seperate out the data into our different time windows \n",
    "\n",
    "🛰️ 1. The Dawn of Space & the Space Race (1957–1975)\n",
    "Context: Cold War rivalry between the USSR and the USA\n",
    "\n",
    "\n",
    "🚀 2. Stabilization & Early Cooperation (1975–1990)\n",
    "Context: Détente period between superpowers\n",
    "\n",
    "\n",
    "🌍 3. International Collaboration & the ISS Era (1990–2010)\n",
    "Context: End of Cold War, rise of global partnerships\n",
    "\n",
    "\n",
    "🌐🚀 4. The New Space Era & Commercial Revolution (2010–2020)\n",
    "Context: Rise of private companies and democratization of space access\n",
    "🪐 Multi-Actor Ambitions & Planetary Goals (2020–Present)\n",
    "\n"
   ]
  },
  {
   "cell_type": "code",
   "execution_count": 3,
   "metadata": {},
   "outputs": [],
   "source": [
    "df_past = df[(df['Status'] != 'Go for Launch') & (df['Status'] != 'To Be Confirmed') & (df['Status'] != 'To Be Determined')] \n",
    "\n",
    "df_future = df[(df['Status'] != 'Launch Successful') & (df['Status'] != 'Launch Failure') & (df['Status'] != 'Launch was a Partial Failure')] "
   ]
  },
  {
   "cell_type": "code",
   "execution_count": 4,
   "metadata": {},
   "outputs": [],
   "source": [
    "df1 = df_past[df_past['Date (Central Time)'] < '1975-01-01']\n",
    "\n",
    "df2 = df_past[(df_past['Date (Central Time)'] > '1975-01-01') & (df_past['Date (Central Time)'] < '1990-01-01')]\n",
    "\n",
    "df3 = df_past[(df_past['Date (Central Time)'] > '1990-01-01') & (df_past['Date (Central Time)'] < '2010-01-01')]\n",
    "\n",
    "df4 = df_past[(df_past['Date (Central Time)'] > '2010-01-01') & (df_past['Date (Central Time)'] < '2025-01-01')] ### Here set as today if scraped live"
   ]
  },
  {
   "cell_type": "code",
   "execution_count": null,
   "metadata": {},
   "outputs": [],
   "source": []
  },
  {
   "cell_type": "markdown",
   "metadata": {},
   "source": [
    "### Let's look at the main providers for each space era"
   ]
  },
  {
   "cell_type": "code",
   "execution_count": 25,
   "metadata": {},
   "outputs": [],
   "source": [
    "df1_providers = df1['Provider'].value_counts().reset_index(name='Nb_of_launches').head(3)\n",
    "df2_providers = df2['Provider'].value_counts().reset_index(name='Nb_of_launches').head(3)\n",
    "df3_providers = df3['Provider'].value_counts().reset_index(name='Nb_of_launches').head(3)\n",
    "df4_providers = df4['Provider'].value_counts().reset_index(name='Nb_of_launches').head(3)\n",
    "df_future_providers = df_future['Provider'].value_counts().reset_index(name='Nb_of_launches').head(3)"
   ]
  },
  {
   "cell_type": "code",
   "execution_count": 26,
   "metadata": {},
   "outputs": [
    {
     "name": "stdout",
     "output_type": "stream",
     "text": [
      "                                        Provider  Nb_of_launches\n",
      "0                           Soviet Space Program             884\n",
      "1                        United States Air Force             629\n",
      "2  National Aeronautics and Space Administration             121\n"
     ]
    }
   ],
   "source": [
    "print(df1_providers)"
   ]
  },
  {
   "cell_type": "code",
   "execution_count": 27,
   "metadata": {},
   "outputs": [
    {
     "name": "stdout",
     "output_type": "stream",
     "text": [
      "                  Provider  Nb_of_launches\n",
      "0     Soviet Space Program            1408\n",
      "1  United States Air Force             244\n",
      "2              Arianespace              33\n"
     ]
    }
   ],
   "source": [
    "print(df2_providers)"
   ]
  },
  {
   "cell_type": "code",
   "execution_count": 28,
   "metadata": {},
   "outputs": [
    {
     "name": "stdout",
     "output_type": "stream",
     "text": [
      "                                   Provider  Nb_of_launches\n",
      "0                   United States Air Force             202\n",
      "1  Russian Federal Space Agency (ROSCOSMOS)             190\n",
      "2                               Arianespace             155\n"
     ]
    }
   ],
   "source": [
    "print(df3_providers)"
   ]
  },
  {
   "cell_type": "code",
   "execution_count": 29,
   "metadata": {},
   "outputs": [
    {
     "name": "stdout",
     "output_type": "stream",
     "text": [
      "                                            Provider  Nb_of_launches\n",
      "0  China Aerospace Science and Technology Corpora...             404\n",
      "1                                             SpaceX             369\n",
      "2           Russian Federal Space Agency (ROSCOSMOS)             133\n"
     ]
    }
   ],
   "source": [
    "print(df4_providers)"
   ]
  },
  {
   "cell_type": "code",
   "execution_count": 30,
   "metadata": {},
   "outputs": [
    {
     "name": "stdout",
     "output_type": "stream",
     "text": [
      "                 Provider  Nb_of_launches\n",
      "0                  SpaceX             132\n",
      "1             Arianespace              49\n",
      "2  United Launch Alliance              45\n"
     ]
    }
   ],
   "source": [
    "print(df_future_providers)"
   ]
  },
  {
   "cell_type": "code",
   "execution_count": null,
   "metadata": {},
   "outputs": [],
   "source": []
  },
  {
   "cell_type": "markdown",
   "metadata": {},
   "source": [
    "### Let's look at the main rockets for each provider and space era"
   ]
  },
  {
   "cell_type": "code",
   "execution_count": 34,
   "metadata": {},
   "outputs": [
    {
     "name": "stdout",
     "output_type": "stream",
     "text": [
      "                                        Provider               Rocket  count\n",
      "0                           Soviet Space Program              Voskhod    259\n",
      "1                           Soviet Space Program         Kosmos 11K63    115\n",
      "2                           Soviet Space Program            Kosmos-3M     97\n",
      "3                        United States Air Force  Thor SLV-2A Agena D     61\n",
      "4                        United States Air Force  Atlas SLV-3 Agena D     48\n",
      "5                        United States Air Force   Thor DM-21 Agena-B     40\n",
      "6  National Aeronautics and Space Administration             Saturn V     13\n",
      "8  National Aeronautics and Space Administration             Titan II     10\n",
      "9  National Aeronautics and Space Administration              Scout B     10\n"
     ]
    }
   ],
   "source": [
    "df1_rockets = df1.groupby('Provider')['Rocket'].value_counts().reset_index(name='count').sort_values(by='count', ascending=False).groupby('Provider').head(3).reset_index(drop=True)\n",
    "rockets1 = df1_rockets[df1_rockets['Provider'].isin(df1_providers['Provider'])]\n",
    "print(rockets1)\n"
   ]
  },
  {
   "cell_type": "code",
   "execution_count": 35,
   "metadata": {},
   "outputs": [
    {
     "name": "stdout",
     "output_type": "stream",
     "text": [
      "                   Provider                Rocket  count\n",
      "0      Soviet Space Program               Soyuz U    533\n",
      "1      Soviet Space Program             Kosmos-3M    263\n",
      "2      Soviet Space Program             Molniya-M    157\n",
      "3   United States Air Force  Atlas SLV-3D Centaur     26\n",
      "4   United States Air Force            Delta 2914     26\n",
      "6   United States Air Force            Titan IIIC     15\n",
      "7               Arianespace              Ariane 3     11\n",
      "8               Arianespace              Ariane 1     10\n",
      "14              Arianespace              Ariane 2      6\n"
     ]
    }
   ],
   "source": [
    "df2_rockets = df2.groupby('Provider')['Rocket'].value_counts().reset_index(name='count').sort_values(by='count', ascending=False).groupby('Provider').head(3).reset_index(drop=True)\n",
    "rockets2 = df2_rockets[df2_rockets['Provider'].isin(df2_providers['Provider'])]\n",
    "print(rockets2)"
   ]
  },
  {
   "cell_type": "code",
   "execution_count": 36,
   "metadata": {},
   "outputs": [
    {
     "name": "stdout",
     "output_type": "stream",
     "text": [
      "                                    Provider              Rocket  count\n",
      "0                    United States Air Force            Delta II    120\n",
      "1   Russian Federal Space Agency (ROSCOSMOS)             Soyuz U     86\n",
      "8                                Arianespace          Ariane 44L     37\n",
      "16                               Arianespace        Ariane 5 ECA     23\n",
      "19                               Arianespace         Ariane 44LP     22\n",
      "21  Russian Federal Space Agency (ROSCOSMOS)         Soyuz-U-PVB     20\n",
      "22  Russian Federal Space Agency (ROSCOSMOS)               Soyuz     20\n",
      "31                   United States Air Force        Titan II SLV     11\n",
      "34                   United States Air Force  Titan 401A Centaur      9\n"
     ]
    }
   ],
   "source": [
    "df3_rockets = df3.groupby('Provider')['Rocket'].value_counts().reset_index(name='count').sort_values(by='count', ascending=False).groupby('Provider').head(3).reset_index(drop=True)\n",
    "rockets3 = df3_rockets[df3_rockets['Provider'].isin(df3_providers['Provider'])]\n",
    "print(rockets3)\n",
    "\n",
    "### here missing space shuttle"
   ]
  },
  {
   "cell_type": "code",
   "execution_count": 37,
   "metadata": {},
   "outputs": [
    {
     "name": "stdout",
     "output_type": "stream",
     "text": [
      "                   Provider                Rocket  count\n",
      "0      Soviet Space Program               Soyuz U    533\n",
      "1      Soviet Space Program             Kosmos-3M    263\n",
      "2      Soviet Space Program             Molniya-M    157\n",
      "3   United States Air Force  Atlas SLV-3D Centaur     26\n",
      "4   United States Air Force            Delta 2914     26\n",
      "6   United States Air Force            Titan IIIC     15\n",
      "7               Arianespace              Ariane 3     11\n",
      "8               Arianespace              Ariane 1     10\n",
      "14              Arianespace              Ariane 2      6\n"
     ]
    }
   ],
   "source": [
    "df4_rockets = df4.groupby('Provider')['Rocket'].value_counts().reset_index(name='count').sort_values(by='count', ascending=False).groupby('Provider').head(3).reset_index(drop=True)\n",
    "rockets4 = df4_rockets[df4_rockets['Provider'].isin(df4_providers['Provider'])]\n",
    "print(rockets2)"
   ]
  },
  {
   "cell_type": "code",
   "execution_count": 15,
   "metadata": {},
   "outputs": [
    {
     "data": {
      "text/html": [
       "<div>\n",
       "<style scoped>\n",
       "    .dataframe tbody tr th:only-of-type {\n",
       "        vertical-align: middle;\n",
       "    }\n",
       "\n",
       "    .dataframe tbody tr th {\n",
       "        vertical-align: top;\n",
       "    }\n",
       "\n",
       "    .dataframe thead th {\n",
       "        text-align: right;\n",
       "    }\n",
       "</style>\n",
       "<table border=\"1\" class=\"dataframe\">\n",
       "  <thead>\n",
       "    <tr style=\"text-align: right;\">\n",
       "      <th></th>\n",
       "      <th>Provider</th>\n",
       "      <th>Rocket</th>\n",
       "      <th>count</th>\n",
       "    </tr>\n",
       "  </thead>\n",
       "  <tbody>\n",
       "    <tr>\n",
       "      <th>1</th>\n",
       "      <td>Arianespace</td>\n",
       "      <td>Vega-C</td>\n",
       "      <td>25</td>\n",
       "    </tr>\n",
       "    <tr>\n",
       "      <th>7</th>\n",
       "      <td>Indian Space Research Organization</td>\n",
       "      <td>GSLV Mk II</td>\n",
       "      <td>6</td>\n",
       "    </tr>\n",
       "    <tr>\n",
       "      <th>19</th>\n",
       "      <td>Rocket Lab</td>\n",
       "      <td>Electron</td>\n",
       "      <td>34</td>\n",
       "    </tr>\n",
       "    <tr>\n",
       "      <th>23</th>\n",
       "      <td>SpaceX</td>\n",
       "      <td>Falcon 9</td>\n",
       "      <td>121</td>\n",
       "    </tr>\n",
       "    <tr>\n",
       "      <th>24</th>\n",
       "      <td>United Launch Alliance</td>\n",
       "      <td>Vulcan</td>\n",
       "      <td>25</td>\n",
       "    </tr>\n",
       "  </tbody>\n",
       "</table>\n",
       "</div>"
      ],
      "text/plain": [
       "                              Provider      Rocket  count\n",
       "1                          Arianespace      Vega-C     25\n",
       "7   Indian Space Research Organization  GSLV Mk II      6\n",
       "19                          Rocket Lab    Electron     34\n",
       "23                              SpaceX    Falcon 9    121\n",
       "24              United Launch Alliance      Vulcan     25"
      ]
     },
     "execution_count": 15,
     "metadata": {},
     "output_type": "execute_result"
    }
   ],
   "source": [
    "df_future_rockets = df_future.groupby('Provider')['Rocket'].value_counts().reset_index().sort_values(by='count', ascending=False).groupby('Provider').first().reset_index()\n",
    "df_future_rockets[df_future_rockets['Provider'].isin(list(df_future_providers['Provider']))]"
   ]
  },
  {
   "cell_type": "code",
   "execution_count": null,
   "metadata": {},
   "outputs": [],
   "source": []
  }
 ],
 "metadata": {
  "kernelspec": {
   "display_name": "Python 3 (ipykernel)",
   "language": "python",
   "name": "python3"
  },
  "language_info": {
   "codemirror_mode": {
    "name": "ipython",
    "version": 3
   },
   "file_extension": ".py",
   "mimetype": "text/x-python",
   "name": "python",
   "nbconvert_exporter": "python",
   "pygments_lexer": "ipython3",
   "version": "3.10.16"
  },
  "pycharm": {
   "stem_cell": {
    "cell_type": "raw",
    "metadata": {
     "collapsed": false
    },
    "source": []
   }
  },
  "varInspector": {
   "cols": {
    "lenName": 16,
    "lenType": 16,
    "lenVar": 40
   },
   "kernels_config": {
    "python": {
     "delete_cmd_postfix": "",
     "delete_cmd_prefix": "del ",
     "library": "var_list.py",
     "varRefreshCmd": "print(var_dic_list())"
    },
    "r": {
     "delete_cmd_postfix": ") ",
     "delete_cmd_prefix": "rm(",
     "library": "var_list.r",
     "varRefreshCmd": "cat(var_dic_list()) "
    }
   },
   "types_to_exclude": [
    "module",
    "function",
    "builtin_function_or_method",
    "instance",
    "_Feature"
   ],
   "window_display": false
  }
 },
 "nbformat": 4,
 "nbformat_minor": 4
}
